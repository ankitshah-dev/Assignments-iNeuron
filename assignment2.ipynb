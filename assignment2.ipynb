{
 "cells": [
  {
   "cell_type": "markdown",
   "metadata": {},
   "source": [
    "## Assignment 2"
   ]
  },
  {
   "cell_type": "markdown",
   "metadata": {},
   "source": [
    "## Task 1 - 1.1 Write a Python Program to implement your own myreduce() function which works exactly like Python's built-in function reduce()"
   ]
  },
  {
   "cell_type": "code",
   "execution_count": 1,
   "metadata": {},
   "outputs": [
    {
     "data": {
      "text/plain": [
       "15"
      ]
     },
     "execution_count": 1,
     "metadata": {},
     "output_type": "execute_result"
    }
   ],
   "source": [
    "## Solution\n",
    "\n",
    "l1 = [1,2,3,4,5]\n",
    "def myreduce(li):\n",
    "    fn = li[0]\n",
    "    for x in li[1:]:\n",
    "        fn+=x\n",
    "    return fn\n",
    "myreduce(l1)"
   ]
  },
  {
   "cell_type": "markdown",
   "metadata": {},
   "source": [
    "## Task 2 - 1.2. Write a Python program to implement your own myfilter() function which works exactly like Python's built-in function filter()"
   ]
  },
  {
   "cell_type": "code",
   "execution_count": 2,
   "metadata": {},
   "outputs": [
    {
     "data": {
      "text/plain": [
       "[2, 6, 10, 10234]"
      ]
     },
     "execution_count": 2,
     "metadata": {},
     "output_type": "execute_result"
    }
   ],
   "source": [
    "## Solution\n",
    "\n",
    "## list for input\n",
    "l1 = [1,2,5,6,99,633,10235,10, 10234]\n",
    "\n",
    "## any custom function\n",
    "def get_even(num):\n",
    "    if num%2 == 0:\n",
    "        return True\n",
    "\n",
    "## myfilter custom function\n",
    "def myfilter(cust_function, li):\n",
    "    output_li=[]\n",
    "    for elem in li:\n",
    "        if cust_function(elem) == True:\n",
    "            output_li.append(elem)\n",
    "    return output_li\n",
    "\n",
    "## calling the function\n",
    "myfilter(get_even, l1)"
   ]
  },
  {
   "cell_type": "markdown",
   "metadata": {},
   "source": [
    "## Task 1 - 2.0. Implement List comprehensions to produce the following lists. Write List comprehensions to produce the following Lists\n",
    "\n",
    "['A', 'C', 'A', 'D', 'G', 'I', ’L’, ‘ D’]\n",
    "\n",
    "['x', 'xx', 'xxx', 'xxxx', 'y', 'yy', 'yyy', 'yyyy', 'z', 'zz', 'zzz', 'zzzz']\n",
    "\n",
    "['x', 'y', 'z', 'xx', 'yy', 'zz', 'xx', 'yy', 'zz', 'xxxx', 'yyyy', 'zzzz']\n",
    "\n",
    "\n",
    "[[2], [3], [4], [3], [4], [5], [4], [5], [6]]\n",
    "\n",
    "[[2, 3, 4, 5], [3, 4, 5, 6], [4, 5, 6, 7], [5, 6, 7, 8]]\n",
    "\n",
    "[(1, 1), (2, 1), (3, 1), (1, 2), (2, 2), (3, 2), (1, 3), (2, 3), (3, 3)]"
   ]
  },
  {
   "cell_type": "code",
   "execution_count": 3,
   "metadata": {},
   "outputs": [
    {
     "name": "stdout",
     "output_type": "stream",
     "text": [
      "['A', 'C', 'A', 'D', 'G', 'I', 'L', 'D'] \n",
      "\n",
      "['x', 'xx', 'xxx', 'xxxx', 'y', 'yy', 'yyy', 'yyyy', 'z', 'zz', 'zzz', 'zzzz'] \n",
      "\n",
      "['x', 'y', 'z', 'xx', 'yy', 'zz', 'xx', 'yy', 'zz', 'xxxx', 'yyyy', 'zzzz'] \n",
      "\n",
      "[[2], [3], [4], [3], [4], [5], [4], [5], [6]] \n",
      "\n",
      "[[2, 3, 4, 5], [3, 4, 5, 6], [4, 5, 6, 7], [5, 6, 7, 8]] \n",
      "\n",
      "[(1, 1), (1, 2), (1, 3), (2, 1), (2, 2), (2, 3), (3, 1), (3, 2), (3, 3)]\n"
     ]
    }
   ],
   "source": [
    "## Solution\n",
    "\n",
    "## list 1\n",
    "word = 'ACADGILD'\n",
    "li = [elem for elem in word]\n",
    "print(li,'\\n')\n",
    "\n",
    "## list 2\n",
    "l1 = ['x', 'y', 'z']\n",
    "l2 = [l1[x]*y  for x in range(0, len(l1)) for y in range(1,len(l1)+2)]\n",
    "print(l2,'\\n')\n",
    "\n",
    "## list 3\n",
    "l3 = [elem*(x-1) if x==3 else elem*x  for x in range(1, len(l1)+2) for elem in l1]\n",
    "print(l3,'\\n')\n",
    "\n",
    "## list 4\n",
    "l1 = [[2],[3],[4]]\n",
    "l4 = [ [l1[i][0]+j] for i in range(0,3) for j in range(0,3)]\n",
    "print(l4,'\\n')\n",
    "\n",
    "## list 5\n",
    "l1 = [2,3,4,5]\n",
    "l5 = [[elem+x for elem in l1] for x in range(0,4)]\n",
    "print(l5,'\\n')\n",
    "\n",
    "## list 6\n",
    "l6 = [(x,y)  for x in range(1,4) for y in range(1,4)]\n",
    "print(l6)"
   ]
  },
  {
   "cell_type": "markdown",
   "metadata": {},
   "source": [
    "## Task 1 - 3.0. Implement a function longestWord() that takes a list of words and returns the longest one."
   ]
  },
  {
   "cell_type": "code",
   "execution_count": 4,
   "metadata": {},
   "outputs": [
    {
     "name": "stdout",
     "output_type": "stream",
     "text": [
      "The longest word is: The Quick brown fox\n"
     ]
    }
   ],
   "source": [
    "def longestWord(input_list):\n",
    "    li = input_list\n",
    "    length = len(li[0])\n",
    "    wordholder = ''\n",
    "    for elem in li[1:]:\n",
    "        if len(elem) >= length:\n",
    "            length = len(elem)\n",
    "            wordholder = elem\n",
    "    print('The longest word is: {}'.format(wordholder))\n",
    "\n",
    "longestWord(['Ankit', 'Shah', 'Hello World', 'The Quick brown fox', 'python', 'cat'])"
   ]
  },
  {
   "cell_type": "markdown",
   "metadata": {},
   "source": [
    "## Task 2 - 1.1. Write a Python Program(with class concepts) to find the area of the triangle using the below formula.\n",
    "\n",
    "area = (s*(s-a)*(s-b)*(s-c)) ** 0.5\n",
    "\n",
    "Function to take the length of the sides of triangle from user should be defined in the parent class and function to calculate the area should be defined in subclass."
   ]
  },
  {
   "cell_type": "code",
   "execution_count": 5,
   "metadata": {},
   "outputs": [],
   "source": [
    "## Parent class-----------------------------------------------------------------\n",
    "class TriangleParent:\n",
    "    def __init__(self, a, b, c):\n",
    "        self._a = a\n",
    "        self._b = b\n",
    "        self._c = c\n",
    "        \n",
    "    def getParameter(self):\n",
    "         return (self._a+self._b+self._c)/2\n",
    "    \n",
    "    def __str__(self):\n",
    "        return 'Sides of a triangle are %d %d %d and the derived parameter is %d' %(self._a, self._b, self._c, self.getParameter())\n",
    "    \n",
    "## child class-----------------------------------------------------------------\n",
    "class TriangleChild(TriangleParent):\n",
    "    def __init__(self, *args, **kwargs):\n",
    "        super(TriangleChild, self).__init__(*args, **kwargs)\n",
    "        \n",
    "    def area(self):\n",
    "        return (self.getParameter()*(self.getParameter() - self._a)\n",
    "                *(self.getParameter() - self._b)*(self.getParameter() - self._c))**0.5\n",
    "    \n",
    "    def __str__(self):\n",
    "        return 'Area of triangle is %s' % (self.area())\n",
    "        \n"
   ]
  },
  {
   "cell_type": "code",
   "execution_count": 6,
   "metadata": {},
   "outputs": [
    {
     "name": "stdout",
     "output_type": "stream",
     "text": [
      "Please enter the 3 sides of a tringle seperated by commas: 3,4,5\n",
      "Area of triangle is 6.0\n"
     ]
    }
   ],
   "source": [
    "## getting input from the users\n",
    "side_input = input('Please enter the 3 sides of a tringle seperated by commas: ')\n",
    "side_input = side_input.split(',')\n",
    "if len(side_input) > 3:\n",
    "    print(\"Error.Please enter only 3 #'s and try again.\")\n",
    "else:\n",
    "    x = int(side_input[0])\n",
    "    y = int(side_input[1])\n",
    "    z = int(side_input[2])\n",
    "\n",
    "t1 = TriangleChild(x,y,z)\n",
    "print(t1)"
   ]
  },
  {
   "cell_type": "markdown",
   "metadata": {},
   "source": [
    "## Task 2 - 1.2. Write a function filter_long_words() that takes a list of words and an integer n and returns the list of words that are longer than n."
   ]
  },
  {
   "cell_type": "code",
   "execution_count": 7,
   "metadata": {},
   "outputs": [
    {
     "name": "stdout",
     "output_type": "stream",
     "text": [
      "Filtered list of words greater than 5 are: ['Hello World', 'The Quick brown fox', 'python']\n"
     ]
    }
   ],
   "source": [
    "def filter_long_words(input_list, filter_number):\n",
    "    li = input_list\n",
    "    li_final = []\n",
    "    fil_num = filter_number\n",
    "    for elem in li:\n",
    "        if len(elem) > fil_num:\n",
    "            li_final.append(elem)\n",
    "    print('Filtered list of words greater than {} are: {}'.format(fil_num, li_final))\n",
    "\n",
    "filter_long_words(['Ankit', 'Shah', 'Hello World', 'The Quick brown fox', 'python', 'cat'], 5)"
   ]
  },
  {
   "cell_type": "markdown",
   "metadata": {},
   "source": [
    "## Task 2 - 2.1. Write a Python program using function concept that maps list of words into a list of integers representing the lengths of the corresponding words . Hint: If a list [ ab,cde,erty] is passed on to the python function output should come as [2,3,4] Here 2,3 and 4 are the lengths of the words in the list. "
   ]
  },
  {
   "cell_type": "code",
   "execution_count": 8,
   "metadata": {},
   "outputs": [
    {
     "name": "stdout",
     "output_type": "stream",
     "text": [
      "Output in integers are: [2, 4, 6, 5]\n"
     ]
    }
   ],
   "source": [
    "def word_to_integers(input_list):\n",
    "    li = input_list\n",
    "    li_final = []\n",
    "    for elem in li:\n",
    "        li_final.append(len(elem))\n",
    "    print('Output in integers are: {}'.format(li_final))\n",
    "\n",
    "word_to_integers(['aa', 'abcd', 'acbned', 'abcde'])"
   ]
  },
  {
   "cell_type": "markdown",
   "metadata": {},
   "source": [
    "## Task 2 - 2.2. Write a Python function which takes a character (i.e. a string of length 1) and returns True if it is a vowel, False otherwise."
   ]
  },
  {
   "cell_type": "code",
   "execution_count": 9,
   "metadata": {},
   "outputs": [
    {
     "name": "stdout",
     "output_type": "stream",
     "text": [
      "Please enter a single character: u\n",
      "u is a Vowel\n"
     ]
    }
   ],
   "source": [
    "def vowels(input_str):\n",
    "    input_str = input_str.lower()\n",
    "    if input_str in 'aeiou':\n",
    "        print('{} is a Vowel'.format(input_str))\n",
    "    else:\n",
    "        print('{} is not a Vowel'.format(input_str))\n",
    "\n",
    "vowels(input('Please enter a single character: '))"
   ]
  },
  {
   "cell_type": "code",
   "execution_count": null,
   "metadata": {},
   "outputs": [],
   "source": []
  }
 ],
 "metadata": {
  "kernelspec": {
   "display_name": "Python 3",
   "language": "python",
   "name": "python3"
  },
  "language_info": {
   "codemirror_mode": {
    "name": "ipython",
    "version": 3
   },
   "file_extension": ".py",
   "mimetype": "text/x-python",
   "name": "python",
   "nbconvert_exporter": "python",
   "pygments_lexer": "ipython3",
   "version": "3.7.6"
  }
 },
 "nbformat": 4,
 "nbformat_minor": 4
}
