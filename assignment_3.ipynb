{
 "cells": [
  {
   "cell_type": "markdown",
   "metadata": {},
   "source": [
    "## Assignment 3"
   ]
  },
  {
   "cell_type": "markdown",
   "metadata": {},
   "source": [
    "## Task 1:"
   ]
  },
  {
   "cell_type": "markdown",
   "metadata": {},
   "source": [
    "## 1. Write a function to compute 5/0 and use try/except to catch the exceptions."
   ]
  },
  {
   "cell_type": "code",
   "execution_count": 1,
   "metadata": {},
   "outputs": [
    {
     "name": "stdout",
     "output_type": "stream",
     "text": [
      "except block: 5 is not divisible by 0.\n",
      "Finally block: I would always execute no matter what.\n"
     ]
    }
   ],
   "source": [
    "## Solution\n",
    "def computenum():\n",
    "    try:\n",
    "        a = 5/0\n",
    "    except:\n",
    "        print('except block: 5 is not divisible by 0.')\n",
    "    else:\n",
    "        print('If 5 was divisible then this would have been the code that would execute and result would be {}'.format(a))\n",
    "    finally:\n",
    "        print('Finally block: I would always execute no matter what.')\n",
    "\n",
    "computenum()"
   ]
  },
  {
   "cell_type": "markdown",
   "metadata": {},
   "source": [
    "## 2. Implement a Python program to generate all sentences where subject is in [\"Americans\",\"Indians\"] and verb is in [\"Play\", \"watch\"] and the object is in [\"Baseball\",\"cricket\"].\n",
    "\n",
    "Hint: Subject,Verb and Object should be declared in the program as shown below.\n",
    "subjects=[\"Americans \",\"Indians\"]\n",
    "verbs=[\"play\",\"watch\"]\n",
    "objects=[\"Baseball\",\"Cricket\"]\n",
    "Output should come as below:\n",
    "\n",
    "Americans play Baseball.\n",
    "Americans play Cricket.\n",
    "Americans watch Baseball.\n",
    "Americans watch Cricket.\n",
    "Indians play Baseball.\n",
    "Indians play Cricket.\n",
    "Indians watch Baseball.\n",
    "Indians watch Cricket."
   ]
  },
  {
   "cell_type": "code",
   "execution_count": 4,
   "metadata": {},
   "outputs": [
    {
     "name": "stdout",
     "output_type": "stream",
     "text": [
      "Americans play Baseball\n",
      "Americans play Cricket\n",
      "Americans watch Baseball\n",
      "Americans watch Cricket\n",
      "Indians play Baseball\n",
      "Indians play Cricket\n",
      "Indians watch Baseball\n",
      "Indians watch Cricket\n"
     ]
    }
   ],
   "source": [
    "## solution\n",
    "class looper:\n",
    "    def __init__(self, l1, l2, l3):\n",
    "        self._l1 = l1\n",
    "        self._l2 = l2        \n",
    "        self._l3 = l3 \n",
    "    \n",
    "    def calcs(self):\n",
    "        for x in range(0, len(self._l1)):\n",
    "            for y in range(0, len(self._l2)):\n",
    "                for z in range(0, len(self._l3)):\n",
    "                    print(self._l1[x], self._l2[y], self._l3[z])\n",
    "\n",
    "## calling via an object.\n",
    "subjects=[\"Americans\",\"Indians\"]\n",
    "verbs=[\"play\",\"watch\"]\n",
    "objects=[\"Baseball\",\"Cricket\"]\n",
    "\n",
    "o1 = looper(subjects, verbs, objects)\n",
    "o1.calcs()"
   ]
  },
  {
   "cell_type": "markdown",
   "metadata": {},
   "source": [
    "## Task 2:"
   ]
  },
  {
   "cell_type": "markdown",
   "metadata": {},
   "source": [
    "## 1. Write a function so that the columns of the output matrix are powers of the input vector.\n",
    "\n",
    "The order of the powers is determined by the increasing boolean argument. Specifically, when\n",
    "increasing is False, the i-th output column is the input vector raised element-wise to the power\n",
    "of N - i - 1.\n",
    "\n",
    "HINT: Such a matrix with a geometric progression in each row is named for Alexandre-\n",
    "Theophile Vandermonde."
   ]
  },
  {
   "cell_type": "code",
   "execution_count": 3,
   "metadata": {},
   "outputs": [
    {
     "name": "stdout",
     "output_type": "stream",
     "text": [
      "[[16, 8, 4, 2, 1], [81, 27, 9, 3, 1], [256, 64, 16, 4, 1], [625, 125, 25, 5, 1]]\n"
     ]
    }
   ],
   "source": [
    "## solution\n",
    "vec = [2,3,4,5]\n",
    "li=[]\n",
    "li2=[]\n",
    "\n",
    "for elem in vec:\n",
    "    n=len(vec)\n",
    "    for x in range(0,len(vec)+1):\n",
    "        li.append(elem**n)\n",
    "        n -=1\n",
    "    li2.insert(x,li)\n",
    "    li = []\n",
    "        \n",
    "print(li2)  "
   ]
  },
  {
   "cell_type": "code",
   "execution_count": null,
   "metadata": {},
   "outputs": [],
   "source": []
  }
 ],
 "metadata": {
  "kernelspec": {
   "display_name": "Python 3",
   "language": "python",
   "name": "python3"
  },
  "language_info": {
   "codemirror_mode": {
    "name": "ipython",
    "version": 3
   },
   "file_extension": ".py",
   "mimetype": "text/x-python",
   "name": "python",
   "nbconvert_exporter": "python",
   "pygments_lexer": "ipython3",
   "version": "3.7.6"
  }
 },
 "nbformat": 4,
 "nbformat_minor": 4
}
